{
 "cells": [
  {
   "cell_type": "code",
   "execution_count": 1,
   "id": "350d44d4",
   "metadata": {},
   "outputs": [
    {
     "ename": "error",
     "evalue": "OpenCV(4.8.0) D:\\a\\opencv-python\\opencv-python\\opencv\\modules\\core\\src\\alloc.cpp:73: error: (-4:Insufficient memory) Failed to allocate 27433728 bytes in function 'cv::OutOfMemoryError'\n",
     "output_type": "error",
     "traceback": [
      "\u001b[1;31m---------------------------------------------------------------------------\u001b[0m",
      "\u001b[1;31merror\u001b[0m                                     Traceback (most recent call last)",
      "\u001b[1;32m~\\AppData\\Local\\Temp\\ipykernel_13656\\2025676025.py\u001b[0m in \u001b[0;36m<module>\u001b[1;34m\u001b[0m\n\u001b[0;32m     21\u001b[0m     \u001b[1;31m# print(files)\u001b[0m\u001b[1;33m\u001b[0m\u001b[1;33m\u001b[0m\u001b[0m\n\u001b[0;32m     22\u001b[0m \u001b[1;33m\u001b[0m\u001b[0m\n\u001b[1;32m---> 23\u001b[1;33m     \u001b[0mimage\u001b[0m \u001b[1;33m=\u001b[0m \u001b[0mcv2\u001b[0m\u001b[1;33m.\u001b[0m\u001b[0mimread\u001b[0m\u001b[1;33m(\u001b[0m\u001b[0mfiles\u001b[0m\u001b[1;33m)\u001b[0m\u001b[1;33m\u001b[0m\u001b[1;33m\u001b[0m\u001b[0m\n\u001b[0m\u001b[0;32m     24\u001b[0m     \u001b[0mrgb_ori_img\u001b[0m\u001b[1;33m.\u001b[0m\u001b[0mappend\u001b[0m\u001b[1;33m(\u001b[0m\u001b[0mimage\u001b[0m\u001b[1;33m)\u001b[0m\u001b[1;33m\u001b[0m\u001b[1;33m\u001b[0m\u001b[0m\n\u001b[0;32m     25\u001b[0m \u001b[1;33m\u001b[0m\u001b[0m\n",
      "\u001b[1;31merror\u001b[0m: OpenCV(4.8.0) D:\\a\\opencv-python\\opencv-python\\opencv\\modules\\core\\src\\alloc.cpp:73: error: (-4:Insufficient memory) Failed to allocate 27433728 bytes in function 'cv::OutOfMemoryError'\n"
     ]
    }
   ],
   "source": [
    "import os\n",
    "import cv2\n",
    "import numpy as np\n",
    "import imutils\n",
    "\n",
    "# get the path of your images\n",
    "path = r\"C:\\Users\\user\\OneDrive - mmu.edu.my\\Documents\\University\\MMU\\Class\\Computer_Vision_CV2\\Project1\\Project\\Images\"\n",
    "\n",
    "# create list\n",
    "rgb_ori_img = []\n",
    "data = [] # list with convert and resized img\n",
    "gray_ori_img = []\n",
    "namelabels = []\n",
    "labels = []\n",
    "\n",
    "# Loop the files(images) inside the folder\n",
    "for folder in os.listdir(path):\n",
    "    # print(folder)\n",
    "\n",
    "    files = os.path.join(path, folder)\n",
    "    # print(files)\n",
    "\n",
    "    image = cv2.imread(files)\n",
    "    rgb_ori_img.append(image)\n",
    "\n",
    "    gryimage = cv2.cvtColor(image, cv2.COLOR_BGR2GRAY)   # convert ori bgr image to grayscale\n",
    "\n",
    "    resized = cv2.resize(gryimage, (380, 380))   # resize the image\n",
    "    # print(resized.shape)\n",
    "\n",
    "    img = np.asarray(resized)\n",
    "    data.append(img)\n",
    "    gray_ori_img.append(gryimage)\n",
    "\n",
    "    # get the labels and store them into a list\n",
    "    label = files.split(os.path.sep)[-1]\n",
    "    namelabels.append(label)\n",
    "    label = label.split('_')\n",
    "\n",
    "    label = label[1]\n",
    "\n",
    "    if label == 'AA':\n",
    "        label = 0\n",
    "    elif label == 'B':\n",
    "        label = 1\n",
    "    else:\n",
    "        label = 2\n",
    "\n",
    "#     print(label)\n",
    "\n",
    "    labels.append(label)\n",
    "\n",
    "print(labels)\n",
    "print(len(data))\n",
    "print('Number of images : ', len(labels))\n"
   ]
  },
  {
   "cell_type": "code",
   "execution_count": null,
   "id": "04a20844",
   "metadata": {},
   "outputs": [],
   "source": [
    "# write the h5 file\n",
    "\n",
    "import h5py\n",
    "\n",
    "h5path = r\"C:\\Users\\user\\OneDrive - mmu.edu.my\\Documents\\University\\MMU\\Class\\Computer_Vision_CV2\\Project1\\Project\\datanew.h5\"\n",
    "\n",
    "hf = h5py.File(h5path, 'w')\n",
    "\n",
    "with h5py.File(h5path, 'a') as h5file:\n",
    "    h5file.create_dataset('data', data=data)\n",
    "    h5file.create_dataset('label', data=labels)\n",
    "h5file.close()"
   ]
  },
  {
   "cell_type": "code",
   "execution_count": 3,
   "id": "447d667c",
   "metadata": {},
   "outputs": [
    {
     "name": "stdout",
     "output_type": "stream",
     "text": [
      "<HDF5 dataset \"data\": shape (2160, 1000, 1000), type \"|u1\"> data /data\n",
      "<HDF5 dataset \"label\": shape (2160,), type \"<i4\"> label /label\n"
     ]
    }
   ],
   "source": [
    "# Read and check the list inside the h5 file\n",
    "\n",
    "h5filepath = r\"C:\\Users\\user\\OneDrive - mmu.edu.my\\Documents\\University\\MMU\\Class\\Computer_Vision_CV2\\Project1\\Project\\datanew.h5\"\n",
    "\n",
    "import h5py\n",
    "with h5py.File(h5filepath,\"r\") as f:\n",
    "    for key in f.keys():\n",
    "        print(f[key], key, f[key].name)"
   ]
  },
  {
   "cell_type": "code",
   "execution_count": null,
   "id": "e5e1bb3f",
   "metadata": {},
   "outputs": [],
   "source": []
  }
 ],
 "metadata": {
  "kernelspec": {
   "display_name": "Python 3 (ipykernel)",
   "language": "python",
   "name": "python3"
  },
  "language_info": {
   "codemirror_mode": {
    "name": "ipython",
    "version": 3
   },
   "file_extension": ".py",
   "mimetype": "text/x-python",
   "name": "python",
   "nbconvert_exporter": "python",
   "pygments_lexer": "ipython3",
   "version": "3.9.13"
  }
 },
 "nbformat": 4,
 "nbformat_minor": 5
}
